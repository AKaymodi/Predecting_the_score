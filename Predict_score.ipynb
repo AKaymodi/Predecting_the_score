{
 "cells": [
  {
   "cell_type": "code",
   "execution_count": 1,
   "metadata": {},
   "outputs": [],
   "source": [
    "import numpy as np\n",
    "import matplotlib.pyplot as plt \n",
    "import pandas as pd "
   ]
  },
  {
   "cell_type": "markdown",
   "metadata": {},
   "source": [
    "# Importing Data Set \n"
   ]
  },
  {
   "cell_type": "code",
   "execution_count": 10,
   "metadata": {},
   "outputs": [
    {
     "name": "stdout",
     "output_type": "stream",
     "text": [
      "    Hours  Score\n",
      "0     2.5     21\n",
      "1     5.1     47\n",
      "2     3.2     27\n",
      "3     8.5     75\n",
      "4     3.5     30\n",
      "5     1.5     20\n",
      "6     9.2     88\n",
      "7     5.5     60\n",
      "8     8.3     81\n",
      "9     2.7     25\n",
      "10    7.7     85\n",
      "11    5.9     62\n",
      "12    4.5     41\n",
      "13    3.3     42\n",
      "14    1.1     17\n",
      "15    8.9     95\n",
      "16    2.5     30\n",
      "17    1.9     24\n",
      "18    6.1     67\n",
      "19    7.4     69\n",
      "20    2.7     30\n",
      "21    4.8     54\n",
      "22    3.8     35\n",
      "23    6.9     76\n",
      "24    7.8     86\n"
     ]
    }
   ],
   "source": [
    "data_set= pd.read_csv('score_data.csv')\n",
    "print(data_set)\n",
    "x= data_set.iloc[:,:-1].values\n",
    "\n",
    "y= data_set.iloc[:,1].values\n"
   ]
  },
  {
   "cell_type": "code",
   "execution_count": 42,
   "metadata": {},
   "outputs": [],
   "source": [
    "from sklearn.model_selection import train_test_split\n",
    "x_train,x_test,y_train,y_test = train_test_split(x,y,test_size=0.2,random_state=0)"
   ]
  },
  {
   "cell_type": "markdown",
   "metadata": {},
   "source": [
    "# Running Model "
   ]
  },
  {
   "cell_type": "code",
   "execution_count": 36,
   "metadata": {},
   "outputs": [
    {
     "data": {
      "text/plain": [
       "LinearRegression(copy_X=True, fit_intercept=True, n_jobs=None, normalize=False)"
      ]
     },
     "execution_count": 36,
     "metadata": {},
     "output_type": "execute_result"
    }
   ],
   "source": [
    "from sklearn.linear_model import LinearRegression \n",
    "\n",
    "Lr = LinearRegression()\n",
    "Lr.fit(x_train,y_train)"
   ]
  },
  {
   "cell_type": "markdown",
   "metadata": {},
   "source": [
    "# Predecting the test Result"
   ]
  },
  {
   "cell_type": "code",
   "execution_count": 43,
   "metadata": {},
   "outputs": [
    {
     "name": "stdout",
     "output_type": "stream",
     "text": [
      "[17.30220982 34.05529402 75.44526674 27.15696523 60.66313363]\n"
     ]
    }
   ],
   "source": [
    "y_pred = Lr.predict(x_test)\n",
    "print(y_pred)"
   ]
  },
  {
   "cell_type": "code",
   "execution_count": 38,
   "metadata": {},
   "outputs": [],
   "source": [
    "def rmse(prediction, target ):\n",
    "    return np.sqrt(((prediction-target )** 2).mean())"
   ]
  },
  {
   "cell_type": "markdown",
   "metadata": {},
   "source": [
    "# Visulaising the Test Result\n"
   ]
  },
  {
   "cell_type": "code",
   "execution_count": 30,
   "metadata": {},
   "outputs": [
    {
     "data": {
      "text/plain": [
       "<function matplotlib.pyplot.show(*args, **kw)>"
      ]
     },
     "execution_count": 30,
     "metadata": {},
     "output_type": "execute_result"
    },
    {
     "data": {
      "image/png": "[encoded data removed]",
      "text/plain": [
       "<Figure size 432x288 with 1 Axes>"
      ]
     },
     "metadata": {
      "needs_background": "light"
     },
     "output_type": "display_data"
    }
   ],
   "source": [
    "plt.scatter(x_train,y_train , color = \"Brown\")\n",
    "plt.plot(x_train,Lr.predict(x_train) , color = \"blue\")\n",
    "plt.title(\"Hour vs Scored (Training Set)\")\n",
    "plt.xlabel('Study hour')\n",
    "plt.ylabel('score')\n",
    "plt.show"
   ]
  },
  {
   "cell_type": "code",
   "execution_count": 36,
   "metadata": {},
   "outputs": [
    {
     "data": {
      "text/plain": [
       "<function matplotlib.pyplot.show(*args, **kw)>"
      ]
     },
     "execution_count": 36,
     "metadata": {},
     "output_type": "execute_result"
    },
    {
     "data": {
      "image/png": "[encoded data removed]",
      "text/plain": [
       "<Figure size 432x288 with 1 Axes>"
      ]
     },
     "metadata": {
      "needs_background": "light"
     },
     "output_type": "display_data"
    }
   ],
   "source": [
    "plt.scatter(x_test,y_test , color = \"Brown\")\n",
    "plt.plot(x_train,Lr.predict(x_train) , color = \"blue\")\n",
    "plt.title(\"Hour vs Scored (Test Set)\")\n",
    "plt.xlabel('Study hour')\n",
    "plt.ylabel('score')\n",
    "plt.show\n"
   ]
  },
  {
   "cell_type": "markdown",
   "metadata": {},
   "source": [
    "# Now the predection for 9.25 hr\n"
   ]
  },
  {
   "cell_type": "code",
   "execution_count": 44,
   "metadata": {},
   "outputs": [
    {
     "name": "stdout",
     "output_type": "stream",
     "text": [
      "   Actual  predicted\n",
      "0      20  17.302210\n",
      "1      27  34.055294\n",
      "2      69  75.445267\n",
      "3      30  27.156965\n",
      "4      62  60.663134\n"
     ]
    }
   ],
   "source": [
    "d_f= pd.DataFrame({\"Actual\": y_test , \"predicted\": y_pred})\n",
    "print(d_f)"
   ]
  },
  {
   "cell_type": "code",
   "execution_count": 40,
   "metadata": {},
   "outputs": [
    {
     "name": "stdout",
     "output_type": "stream",
     "text": [
      "Hours = [[9.25]]\n",
      "Predicted Score = 93.67656425238499\n"
     ]
    }
   ],
   "source": [
    "hours = [[9.25]]\n",
    "own_pred = Lr.predict(hours)\n",
    "print(\"Hours = {}\".format(hours))\n",
    "print(\"Predicted Score = {}\".format(own_pred[0]))"
   ]
  },
  {
   "cell_type": "markdown",
   "metadata": {},
   "source": [
    "# Calcutate the error of mistake "
   ]
  },
  {
   "cell_type": "code",
   "execution_count": 45,
   "metadata": {},
   "outputs": [
    {
     "name": "stdout",
     "output_type": "stream",
     "text": [
      "4.657612421130509\n"
     ]
    }
   ],
   "source": [
    "error = rmse(y_test,y_pred)\n",
    "print (error)"
   ]
  },
  {
   "cell_type": "code",
   "execution_count": null,
   "metadata": {},
   "outputs": [],
   "source": []
  }
 ],
 "metadata": {
  "kernelspec": {
   "display_name": "Python 3",
   "language": "python",
   "name": "python3"
  },
  "language_info": {
   "codemirror_mode": {
    "name": "ipython",
    "version": 3
   },
   "file_extension": ".py",
   "mimetype": "text/x-python",
   "name": "python",
   "nbconvert_exporter": "python",
   "pygments_lexer": "ipython3",
   "version": "3.7.6"
  }
 },
 "nbformat": 4,
 "nbformat_minor": 4
}
